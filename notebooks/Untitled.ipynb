{
 "cells": [
  {
   "cell_type": "code",
   "execution_count": 170,
   "id": "78f1cd73-dca5-4f67-90a6-b49e128ba564",
   "metadata": {},
   "outputs": [],
   "source": [
    "from sentence_transformers import SentenceTransformer\n",
    "import numpy as np\n",
    "import json\n",
    "import pandas as pd\n",
    "from tqdm.notebook import tqdm"
   ]
  },
  {
   "cell_type": "code",
   "execution_count": 171,
   "id": "81d8691b-2fa3-42ef-87cc-ecdc7b34f0e2",
   "metadata": {},
   "outputs": [],
   "source": [
    "model = SentenceTransformer(\n",
    "    \"all-MiniLM-L6-v2\"\n",
    ") \n",
    "df = pd.read_json(\"hotel_concatenated_descriptoin_sentiment_final.json\", orient='records')\n",
    "#df = pd.read_json(\"./startups_demo.json\", lines=True)\n",
    "\n",
    "\n"
   ]
  },
  {
   "cell_type": "code",
   "execution_count": 172,
   "id": "20a54bf4-478e-484b-bc79-e54b23e99a09",
   "metadata": {},
   "outputs": [
    {
     "data": {
      "application/vnd.jupyter.widget-view+json": {
       "model_id": "eac5df97405344b5ad69e87826edf58e",
       "version_major": 2,
       "version_minor": 0
      },
      "text/plain": [
       "Batches:   0%|          | 0/5 [00:00<?, ?it/s]"
      ]
     },
     "metadata": {},
     "output_type": "display_data"
    }
   ],
   "source": [
    "vectors = model.encode(\n",
    "    [row.hotel_description for row in df.itertuples()],\n",
    "    show_progress_bar=True,\n",
    ")"
   ]
  },
  {
   "cell_type": "code",
   "execution_count": 173,
   "id": "dcfadf8c-8754-4c8c-be38-b8e904d8e9ed",
   "metadata": {},
   "outputs": [],
   "source": [
    "np.save(\"hotel_vectors.npy\", vectors, allow_pickle=False)\n",
    "\n"
   ]
  },
  {
   "cell_type": "code",
   "execution_count": null,
   "id": "053b846f-3ba2-40e9-872f-1c01863758d7",
   "metadata": {},
   "outputs": [],
   "source": []
  },
  {
   "cell_type": "code",
   "execution_count": 174,
   "id": "badf68fd-ebe7-4136-a076-2d5fc5d9a14d",
   "metadata": {},
   "outputs": [],
   "source": [
    "from qdrant_client import QdrantClient\n",
    "from qdrant_client.models import VectorParams, Distance\n",
    "\n",
    "qdrant_client = QdrantClient(\"http://localhost:6333\")"
   ]
  },
  {
   "cell_type": "code",
   "execution_count": 175,
   "id": "c86b5006-55e6-4c32-abb2-b06270c4bb22",
   "metadata": {},
   "outputs": [
    {
     "data": {
      "text/plain": [
       "True"
      ]
     },
     "execution_count": 175,
     "metadata": {},
     "output_type": "execute_result"
    }
   ],
   "source": [
    "qdrant_client.recreate_collection(\n",
    "    collection_name=\"hotel_descriptions\",\n",
    "    vectors_config=VectorParams(size=384, distance=Distance.COSINE),\n",
    ")"
   ]
  },
  {
   "cell_type": "code",
   "execution_count": null,
   "id": "1a94f187-72a0-404e-8f83-00c9ef6eeed1",
   "metadata": {},
   "outputs": [],
   "source": []
  },
  {
   "cell_type": "code",
   "execution_count": null,
   "id": "5c3450c5-4cf7-4504-8586-2fe2bf4f35eb",
   "metadata": {},
   "outputs": [],
   "source": []
  },
  {
   "cell_type": "code",
   "execution_count": 176,
   "id": "562981ad-b6a6-48ff-9845-5b2c88193dd1",
   "metadata": {},
   "outputs": [],
   "source": [
    "with open(\"./hotel_concatenated_descriptoin_sentiment_final.json\", \"r\") as fd:\n",
    "    # Load JSON data with records orientation\n",
    "    data = json.load(fd)\n",
    "\n",
    "# Define payload as an iterator over the startup data\n",
    "payload = iter(data)"
   ]
  },
  {
   "cell_type": "code",
   "execution_count": 177,
   "id": "50b41b49-b053-4936-8178-fdd645218635",
   "metadata": {},
   "outputs": [],
   "source": [
    "\n",
    "# Load all vectors into memory, numpy array works as iterable for itself.\n",
    "# Other option would be to use Mmap, if you don't want to load all data into RAM\n",
    "vectors = np.load(\"./hotels_vectors.npy\")"
   ]
  },
  {
   "cell_type": "code",
   "execution_count": 178,
   "id": "ee08df92-22f6-4155-9e72-0cd64ee6880a",
   "metadata": {},
   "outputs": [],
   "source": [
    "qdrant_client.upload_collection(\n",
    "    collection_name=\"hotel_descriptions\",\n",
    "    vectors=vectors,\n",
    "    payload=payload,\n",
    "    ids=None,  # Vector ids will be assigned automatically\n",
    "    batch_size=256,  # How many vectors will be uploaded in a single request?\n",
    ")"
   ]
  },
  {
   "cell_type": "code",
   "execution_count": null,
   "id": "af6e4f56-5878-456e-9519-cf64ae985235",
   "metadata": {},
   "outputs": [],
   "source": []
  },
  {
   "cell_type": "code",
   "execution_count": null,
   "id": "c3e07657-5d8a-4339-a9fb-c14db0ffa1b6",
   "metadata": {},
   "outputs": [],
   "source": []
  },
  {
   "cell_type": "code",
   "execution_count": null,
   "id": "7c30f326-40ea-46d3-8d1c-4db715d673b3",
   "metadata": {},
   "outputs": [],
   "source": []
  },
  {
   "cell_type": "code",
   "execution_count": null,
   "id": "334c10d1-d728-455f-b696-91601346457e",
   "metadata": {},
   "outputs": [],
   "source": []
  },
  {
   "cell_type": "code",
   "execution_count": null,
   "id": "6c804f65-a82e-4104-a1e2-4f171fd042db",
   "metadata": {},
   "outputs": [],
   "source": []
  },
  {
   "cell_type": "code",
   "execution_count": null,
   "id": "454b44c0-f817-4db9-99cf-016a71809870",
   "metadata": {},
   "outputs": [],
   "source": []
  }
 ],
 "metadata": {
  "kernelspec": {
   "display_name": "Python 3 (ipykernel)",
   "language": "python",
   "name": "python3"
  },
  "language_info": {
   "codemirror_mode": {
    "name": "ipython",
    "version": 3
   },
   "file_extension": ".py",
   "mimetype": "text/x-python",
   "name": "python",
   "nbconvert_exporter": "python",
   "pygments_lexer": "ipython3",
   "version": "3.11.5"
  }
 },
 "nbformat": 4,
 "nbformat_minor": 5
}
